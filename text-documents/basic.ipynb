{
 "cells": [
  {
   "cell_type": "markdown",
   "metadata": {},
   "source": [
    "# Accessing Standard Text Files as PyMuPDF Documents\n",
    "\n",
    "This notebook demonstrates basic features and specifics of this Document type."
   ]
  },
  {
   "cell_type": "code",
   "execution_count": 55,
   "metadata": {},
   "outputs": [
    {
     "name": "stdout",
     "output_type": "stream",
     "text": [
      "page count: 1\n",
      "Document metadata 'format' value: 'Tex'\n",
      "page dimension (400.0 x 600.0)\n",
      "\n",
      "Over the past 3,000 years, the city of Beijing has\n",
      "had numerous other names. The name Beijing, which\n",
      "means \"Northern Capital\" (from the Chinese characters\n",
      "北 běi for north and 京 jīng for capital), was applied\n",
      "to the city in 1403 during the Ming dynasty to\n",
      "distinguish the city from Nanjing (the \"Southern\n",
      "Capital\").[31] The English spelling Beijing is based\n",
      "on the government's official romanization (adopted in\n",
      "the 1980s) of the two characters as they are\n",
      "pronounced in Standard Mandarin.\n",
      "\n"
     ]
    }
   ],
   "source": [
    "import fitz\n",
    "\n",
    "# Open a (non-ASCII) text file as a Document from memory data.\n",
    "# The following text is from the Wikipedia website https://en.wikipedia.org/wiki/Beijing\n",
    "text = \"\"\"Over the past 3,000 years, the city of Beijing has had numerous other names. The name Beijing, which means \"Northern Capital\" (from the Chinese characters 北 běi for north and 京 jīng for capital), was applied to the city in 1403 during the Ming dynasty to distinguish the city from Nanjing (the \"Southern Capital\").[31] The English spelling Beijing is based on the government's official romanization (adopted in the 1980s) of the two characters as they are pronounced in Standard Mandarin.\"\"\"\n",
    "\n",
    "doc = fitz.open(\"txt\", text.encode())  # open a Document from memory data\n",
    "print(f\"page count: {doc.page_count}\")\n",
    "print(f\"Document metadata 'format' value: '{doc.metadata['format']}'\")\n",
    "page = doc[0]\n",
    "print(f\"page dimension ({page.rect.width} x {page.rect.height})\\n\")\n",
    "print(page.get_text())\n"
   ]
  },
  {
   "cell_type": "markdown",
   "metadata": {},
   "source": [
    "The Document has been created with default values. Therefore, line breaks have been generated after approx. 53 characters to maintain the left / right margins of twice the value of font size (equal to default 11 points).\n",
    "\n",
    "We now layout the document to use an ISO A4 page format and a font size of 10 points.\n",
    "\n",
    "Then print the page text again to see where line breaks are happening. Please note, that the margins can only be changed indirectly via changing the font size."
   ]
  },
  {
   "cell_type": "code",
   "execution_count": 56,
   "metadata": {},
   "outputs": [
    {
     "name": "stdout",
     "output_type": "stream",
     "text": [
      "page dimension (595.0 x 842.0)\n",
      "\n",
      "Over the past 3,000 years, the city of Beijing has had numerous other names. The name\n",
      "Beijing, which means \"Northern Capital\" (from the Chinese characters 北 běi for north and 京\n",
      "jīng for capital), was applied to the city in 1403 during the Ming dynasty to distinguish\n",
      "the city from Nanjing (the \"Southern Capital\").[31] The English spelling Beijing is based on\n",
      "the government's official romanization (adopted in the 1980s) of the two characters as they\n",
      "are pronounced in Standard Mandarin.\n",
      "\n"
     ]
    }
   ],
   "source": [
    "# alter the page layout\n",
    "doc.layout(rect=fitz.paper_rect(\"a4\"),fontsize=10)\n",
    "\n",
    "# we must create the page again after this\n",
    "page = doc[0]\n",
    "print(f\"page dimension ({page.rect.width} x {page.rect.height})\\n\")\n",
    "print(page.get_text())"
   ]
  },
  {
   "cell_type": "markdown",
   "metadata": {},
   "source": [
    "The following code extracts text with all details down to text line level to demonstrate that each line's boundary box starts at 20 (2 * font size) and ends no later than page width 595 - 20 = 575.\n",
    "\n",
    "Each text is wrapped by \"|\" characters and their position value in points."
   ]
  },
  {
   "cell_type": "code",
   "execution_count": 57,
   "metadata": {},
   "outputs": [
    {
     "name": "stdout",
     "output_type": "stream",
     "text": [
      "Left margin 20, right margin 575.0.\n",
      "\n",
      "(20.0) Over the past 3,000 years, the city of Beijing has had numerous other names. The name (530.0)\n",
      "(20.0) Beijing, which means \"Northern Capital\" (from the Chinese characters 北 běi for north and 京 (568.0)\n",
      "(20.0) jīng for capital), was applied to the city in 1403 during the Ming dynasty to distinguish (554.0)\n",
      "(20.0) the city from Nanjing (the \"Southern Capital\").[31] The English spelling Beijing is based on (572.0)\n",
      "(20.0) the government's official romanization (adopted in the 1980s) of the two characters as they (566.0)\n",
      "(20.0) are pronounced in Standard Mandarin. (236.0)\n"
     ]
    }
   ],
   "source": [
    "# Text lines start at 2 * font size and end before page widh - 2 font size:\n",
    "print(f\"Left margin 20, right margin {page.rect.width-20}.\\n\")\n",
    "text_items = page.get_text(\"dict\")\n",
    "for block in text_items[\"blocks\"]:\n",
    "    for line in block[\"lines\"]:\n",
    "        text = \"\".join([s[\"text\"] for s in line[\"spans\"]])\n",
    "        print(f\"({line['bbox'][0]}) {text} ({line['bbox'][2]})\")"
   ]
  },
  {
   "cell_type": "markdown",
   "metadata": {},
   "source": [
    "Just a demo that the Chinese character for \"capital\" (\"京\" end of second line above) indeed ends at the end of the line."
   ]
  },
  {
   "cell_type": "code",
   "execution_count": 58,
   "metadata": {},
   "outputs": [
    {
     "data": {
      "text/plain": [
       "[Rect(558.0, 40.5703125, 568.0, 53.65625)]"
      ]
     },
     "execution_count": 58,
     "metadata": {},
     "output_type": "execute_result"
    }
   ],
   "source": [
    "page.search_for(\"京\")  # search for Chinese \"capital\""
   ]
  },
  {
   "cell_type": "markdown",
   "metadata": {},
   "source": [
    "Depending on the unicode of each single character, the appropriate font to represent it is returned. In our case, all characters are either extended Latin (for which the Courier equivalent \"Nimbus Mono PS Regular\" is taken) or Chinese (for which \"Droid Sans Fallback Regular\" is chosen)."
   ]
  },
  {
   "cell_type": "code",
   "execution_count": 59,
   "metadata": {},
   "outputs": [
    {
     "name": "stdout",
     "output_type": "stream",
     "text": [
      "Used fonts: {'Droid Sans Fallback Regular', 'Nimbus Mono PS Regular'}.\n"
     ]
    }
   ],
   "source": [
    "# MuPDF has automatically selected the necessary fonts\n",
    "fonts = set()\n",
    "for block in text_items[\"blocks\"]:\n",
    "    for line in block[\"lines\"]:\n",
    "        for span in line[\"spans\"]:\n",
    "            fonts.add(span[\"font\"])\n",
    "print(f\"Used fonts: {fonts}.\")"
   ]
  },
  {
   "cell_type": "markdown",
   "metadata": {},
   "source": [
    "Finally, let us check which font sizes per font we are encountering. Text file Documents should mainly be reported using monospaced fonts.\n",
    "\n",
    "In our example two fonts are used, so we should expect no more than two different character widths."
   ]
  },
  {
   "cell_type": "code",
   "execution_count": 60,
   "metadata": {},
   "outputs": [
    {
     "name": "stdout",
     "output_type": "stream",
     "text": [
      "character widths per font: {(10.0, 'Droid Sans Fallback Regular'), (6.0, 'Nimbus Mono PS Regular')}\n"
     ]
    }
   ],
   "source": [
    "widths=set()  # store pairs of font sizes and font names here\n",
    "for block in page.get_text(\"rawdict\")[\"blocks\"]:\n",
    "    for line in block[\"lines\"]:\n",
    "        for span in line[\"spans\"]:\n",
    "            font = span[\"font\"]\n",
    "            for char in span[\"chars\"]:\n",
    "                bbox = fitz.Rect(char[\"bbox\"])\n",
    "                widths.add((bbox.width, font))\n",
    "print(f\"character widths per font: {widths}\")"
   ]
  },
  {
   "cell_type": "markdown",
   "metadata": {},
   "source": [
    "## Conclusions\n",
    "\n",
    "* Similar to e-books, TXT Documents are **_reflowable_**. Therefore, page dimension and font size can be changed at any time.\n",
    "* All characters are regarded as having the same font size, which has been set during open or `doc.layout()` (in points, 1 point = 1/72 inches).\n",
    "* Pages have fixed left and right margins of twice the font size.\n",
    "* Text may have been written in ASCII, UTF-8 or UTF-16 encoding. Therefore, any language is acceptable and a wide range of files may be accessed as TXT documents.\n",
    "* Depending on the Unicode encountered, a suitable font is chosen from the [Noto](https://notofonts.github.io/) fonts.\n",
    "    - In our example, Latin characters use the 'Nimbus Mono PS Regular' (Courier) font and have a width of `0.6 * fontsize`. Chinese (also Japanese and Korean) characters are represented by the 'Droid Sans Fallback Regular' font and have a width of `fontsize`.\n",
    "* When TXT Documents are created from files, file name extensions **\".txt\"** and **\".text\"** are automatically recognized. In other cases, the `filetype` parameter must be used.\n",
    "* Like any other document type, TXT Documents may also be **_opened from memory_** via `fitz.open(\"txt\", binary-data)`."
   ]
  }
 ],
 "metadata": {
  "kernelspec": {
   "display_name": "Python 3",
   "language": "python",
   "name": "python3"
  },
  "language_info": {
   "codemirror_mode": {
    "name": "ipython",
    "version": 3
   },
   "file_extension": ".py",
   "mimetype": "text/x-python",
   "name": "python",
   "nbconvert_exporter": "python",
   "pygments_lexer": "ipython3",
   "version": "3.12.0"
  }
 },
 "nbformat": 4,
 "nbformat_minor": 2
}

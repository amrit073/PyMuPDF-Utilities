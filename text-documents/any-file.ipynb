{
 "cells": [
  {
   "cell_type": "markdown",
   "metadata": {},
   "source": [
    "# Open Arbitrary Files as TXT Document\n",
    "\n",
    "PyMuPDF can open plain text files as a `fitz.Document`. Because of its support for UTF-8 (and UTF-16) endcoding, a wide range of files can be opened as if they were text files.\n",
    "\n",
    "Here is a small example where we create a PDF and then open it again as a text file.\n",
    "\n",
    "> **NOTE:** Files containing a NULL byte will currently not be processed completely, as this is regarded as an EOF marker."
   ]
  },
  {
   "cell_type": "code",
   "execution_count": 24,
   "metadata": {},
   "outputs": [
    {
     "name": "stdout",
     "output_type": "stream",
     "text": [
      "%PDF-1.7\n",
      "%µ¶\n",
      "1 0 obj\n",
      "<</Type/Catalog/Pages 2 0 R>>\n",
      "endobj\n",
      "2 0 obj\n",
      "<</Type/Pages/Count 1/Kids[3 0 R]>>\n",
      "endobj\n",
      "3 0 obj\n",
      "<</Type/Page/MediaBox[0 0 595 842]/Rotate 0/Resources<</Font<</helv 4 0 R>>>>/Parent 2 0 R/Contents 5 0 R>>\n",
      "endobj\n",
      "4 0 obj\n",
      "<</Type/Font/Subtype/Type1/BaseFont/Helvetica/Encoding/WinAnsiEncoding>>\n",
      "endobj\n",
      "5 0 obj\n",
      "<</Length 81>>\n",
      "stream\n",
      "q\n",
      "BT\n",
      "/helv 11 Tf\n",
      "1 0 0 1 100 742 Tm\n",
      "[(Just some arbitrary content.)] TJ\n",
      "ET\n",
      "Q\n",
      "q\n",
      "Q\n",
      "endstream\n",
      "endobj\n",
      "xref\n",
      "0 6\n",
      "0000000000 65536 f \n",
      "0000000016 00000 n \n",
      "0000000062 00000 n \n",
      "0000000114 00000 n \n",
      "0000000238 00000 n \n",
      "0000000327 00000 n \n",
      "trailer\n",
      "<</Size 6/Root 1 0 R/ID[<CC2A084CB9885ADABC51CE10CFC725E8><8F2C15D6C784DF5A97728DB5403FCAB8>]>>\n",
      "startxref\n",
      "457\n",
      "%%EOF\n",
      "\n"
     ]
    }
   ],
   "source": [
    "import fitz\n",
    "\n",
    "doc = fitz.open()  # make a new empty PDF\n",
    "page = doc.new_page()  # give it a page ... with some content\n",
    "page.insert_text((100, 100), \"Just some arbitrary content.\")\n",
    "page.clean_contents()\n",
    "# save the PDF to memory\n",
    "doc.save(\"test.pdf\", garbage=4, expand=True)  # prevent premature EOF (0x00)\n",
    "doc.close()\n",
    "\n",
    "# make a TXT Document from the PDF\n",
    "doc = fitz.open(\"test.pdf\", filetype=\"txt\", rect=fitz.paper_rect(\"letter\"), fontsize=8)\n",
    "page = doc[0]\n",
    "print(page.get_text())"
   ]
  }
 ],
 "metadata": {
  "kernelspec": {
   "display_name": "Python 3",
   "language": "python",
   "name": "python3"
  },
  "language_info": {
   "codemirror_mode": {
    "name": "ipython",
    "version": 3
   },
   "file_extension": ".py",
   "mimetype": "text/x-python",
   "name": "python",
   "nbconvert_exporter": "python",
   "pygments_lexer": "ipython3",
   "version": "3.12.0"
  }
 },
 "nbformat": 4,
 "nbformat_minor": 2
}

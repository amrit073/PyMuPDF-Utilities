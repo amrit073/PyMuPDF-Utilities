{
 "cells": [
  {
   "cell_type": "markdown",
   "id": "lightweight-angola",
   "metadata": {},
   "source": [
    "# PyMuPDF: Inserting an Annotation on a PDF Page\n",
    "\n",
    "This notebook creates a new, empty PDF and a new page in ISO A4 format.\n",
    "We define a \"Circle\" annotation and display the result.\n",
    "> **_Note:_** Apart from importing PyMuPDF itself (fitz), we need some technical preparations which will allow us to display graphical content inline with this document."
   ]
  },
  {
   "cell_type": "code",
   "execution_count": 1,
   "id": "elder-trash",
   "metadata": {},
   "outputs": [],
   "source": [
    "# uncomment the following line(s) to ensure that all packages are available:\n",
    "# !python -m pip install matplotlib\n",
    "# !python -m pip install -U pymupdf\n",
    "\n",
    "%matplotlib inline\n",
    "import fitz  # import PyMuPDF\n",
    "\n",
    "def show_image(pix):\n",
    "    \"\"\"Display a pixmap using matplotlib and numpy.\"\"\"\n",
    "    import matplotlib.pyplot as plt  # needed for displaying intermediate images\n",
    "    import numpy as np  # needed for displaying intermediate images\n",
    "    img = np.ndarray((pix.h, pix.w, 3), dtype=np.uint8, buffer=pix.samples_mv)  # raw image to numpy array\n",
    "    image = plt.imshow(img)  # let matplotlib show the image"
   ]
  },
  {
   "cell_type": "markdown",
   "id": "improved-dylan",
   "metadata": {},
   "source": [
    "Create a new PDF with a new page:"
   ]
  },
  {
   "cell_type": "code",
   "execution_count": 2,
   "id": "engaged-ministry",
   "metadata": {},
   "outputs": [],
   "source": [
    "doc = fitz.open()\n",
    "page = doc.new_page()"
   ]
  },
  {
   "cell_type": "markdown",
   "id": "varied-benchmark",
   "metadata": {},
   "source": [
    "Define some rectangle within which we want to show the annotation: size: 200 x 100, top-left: (100, 100), bottom-right (300, 200)."
   ]
  },
  {
   "cell_type": "code",
   "execution_count": 3,
   "id": "enabling-letters",
   "metadata": {},
   "outputs": [],
   "source": [
    "rect = fitz.Rect(100, 100, 300, 200)"
   ]
  },
  {
   "cell_type": "markdown",
   "id": "sexual-score",
   "metadata": {},
   "source": [
    "We now make a 'Circle' (ellipse) annotation."
   ]
  },
  {
   "cell_type": "code",
   "execution_count": 4,
   "id": "sized-dealing",
   "metadata": {},
   "outputs": [],
   "source": [
    "annot = page.add_circle_annot(rect)"
   ]
  },
  {
   "cell_type": "markdown",
   "id": "double-cambridge",
   "metadata": {},
   "source": [
    "The result is an **_actual circle only_** if `rect.width == rect.height`, otherwise an ellipse. In our case, the result will be an **_ellipse_**.\n",
    "\n",
    "Here are some basic annotation information."
   ]
  },
  {
   "cell_type": "code",
   "execution_count": 5,
   "id": "external-suffering",
   "metadata": {},
   "outputs": [
    {
     "name": "stdout",
     "output_type": "stream",
     "text": [
      "'Circle' annotation on page 0 of <new PDF, doc# 1>\n",
      "content = ''\n",
      "name = ''\n",
      "title = ''\n",
      "creationDate = ''\n",
      "modDate = ''\n",
      "subject = ''\n",
      "id = 'fitz-A0'\n"
     ]
    }
   ],
   "source": [
    "print(annot)\n",
    "for k, v in annot.info.items():\n",
    "    print(f\"{k} = '{v}'\")"
   ]
  },
  {
   "cell_type": "markdown",
   "id": "dimensional-privilege",
   "metadata": {},
   "source": [
    "The standard colors for **'Circle'** annotations are **black** for the border ('stroke') and *None* (empty) for the interior ('fill'), see here:"
   ]
  },
  {
   "cell_type": "code",
   "execution_count": 6,
   "id": "interracial-thailand",
   "metadata": {},
   "outputs": [
    {
     "name": "stdout",
     "output_type": "stream",
     "text": [
      "{'stroke': (1.0, 0.0, 0.0), 'fill': None}\n"
     ]
    }
   ],
   "source": [
    "print(annot.colors)  # show the default colors"
   ]
  },
  {
   "cell_type": "markdown",
   "id": "simple-printing",
   "metadata": {},
   "source": [
    "Let's not be **that** boring and give our annotation a **red** border and a **yellow** interior:"
   ]
  },
  {
   "cell_type": "code",
   "execution_count": 7,
   "id": "accepting-walnut",
   "metadata": {},
   "outputs": [],
   "source": [
    "annot.set_colors(stroke=fitz.pdfcolor[\"red\"], fill=fitz.pdfcolor[\"yellow\"])"
   ]
  },
  {
   "cell_type": "markdown",
   "id": "variable-illustration",
   "metadata": {},
   "source": [
    "Changes to an annotation's appearance require invoking its `update()` method to activate them.\n",
    "\n",
    "This is needed only once - after all desired changes have been made."
   ]
  },
  {
   "cell_type": "code",
   "execution_count": 8,
   "id": "greek-definition",
   "metadata": {},
   "outputs": [],
   "source": [
    "annot.update()"
   ]
  },
  {
   "cell_type": "markdown",
   "id": "9e95a664",
   "metadata": {},
   "source": [
    "Here is how the annotation looks like:"
   ]
  },
  {
   "cell_type": "code",
   "execution_count": 9,
   "id": "flexible-picking",
   "metadata": {},
   "outputs": [
    {
     "data": {
      "image/png": "[encoded data removed]",
      "text/plain": [
       "<Figure size 432x288 with 1 Axes>"
      ]
     },
     "metadata": {
      "needs_background": "light"
     },
     "output_type": "display_data"
    }
   ],
   "source": [
    "pix = annot.get_pixmap()  # create a raw image of our annotation\n",
    "show_image(pix)  # show it here"
   ]
  },
  {
   "cell_type": "markdown",
   "id": "7c55f7fc",
   "metadata": {},
   "source": [
    "And here is the image of the **full page**, showing the annotation's location on it:"
   ]
  },
  {
   "cell_type": "code",
   "execution_count": 10,
   "id": "defensive-volleyball",
   "metadata": {},
   "outputs": [
    {
     "data": {
      "image/png": "[encoded data removed]",
      "text/plain": [
       "<Figure size 432x288 with 1 Axes>"
      ]
     },
     "metadata": {
      "needs_background": "light"
     },
     "output_type": "display_data"
    }
   ],
   "source": [
    "pix = page.get_pixmap()  # make raw image of the full page\n",
    "show_image(pix)"
   ]
  }
 ],
 "metadata": {
  "interpreter": {
   "hash": "dacf40ba69c4e52f13991c9802a7e3e4c13661a31627ca571217c8b5d093ad33"
  },
  "kernelspec": {
   "display_name": "Python 3 (ipykernel)",
   "language": "python",
   "name": "python3"
  },
  "language_info": {
   "codemirror_mode": {
    "name": "ipython",
    "version": 3
   },
   "file_extension": ".py",
   "mimetype": "text/x-python",
   "name": "python",
   "nbconvert_exporter": "python",
   "pygments_lexer": "ipython3",
   "version": "3.11.1"
  }
 },
 "nbformat": 4,
 "nbformat_minor": 5
}

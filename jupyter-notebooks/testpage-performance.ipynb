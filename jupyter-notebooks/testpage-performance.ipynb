{
 "cells": [
  {
   "attachments": {},
   "cell_type": "markdown",
   "metadata": {},
   "source": [
    "# Speedcheck: Show performance differences using separate TextPage objects\n",
    "With its v1.19.0, PyMuPDF has added a new parameter `textpage` to text extraction and text search methods. This allows reuse and sharing of the same TextPage object.\n"
   ]
  },
  {
   "attachments": {},
   "cell_type": "markdown",
   "metadata": {},
   "source": [
    "\n",
    "## Background\n",
    "All text searches and extractions in PyMuPDF under the hood work in 2 steps:\n",
    "\n",
    "1. Step 1 creates a \"TextPage\" object, which parses the document page and extracts its content based on a number of flags (which control whether e.g. images should also be included in the results). Execution time of this step is **always longer** than that of the second step.\n",
    "2. Step 2 walks through the **TextPage's content** and generates the requested output (simple text, HTML, search result rectangles, etc). When finished, the textpage is destroyed again.\n",
    "\n",
    "> MuPDF's major motivation for object \"TextPage\" was to abstract from the document type: only the logic for creating a textpage is different between a PDF, XPS, EPUB, etc. The application-side logic to create the desired result is not impacted by the document type.\n",
    "\n",
    "This notebook shows how to break up text search and extraction into the above two steps. Whenever you need to do multiple searches or extractions on the same document page, you can base them all on the same TextPage and that way gain considerable performance improvements."
   ]
  },
  {
   "attachments": {},
   "cell_type": "markdown",
   "metadata": {},
   "source": [
    "\n",
    "## Demonstrations\n",
    "\n",
    "The following snippets demonstrate the **very significant performance boosts** in cases where you perform multiple text searches and / or extractions on the same page."
   ]
  },
  {
   "cell_type": "code",
   "execution_count": 8,
   "metadata": {},
   "outputs": [],
   "source": [
    "# Uncomment the following to ensure PyMuPDF is installed\n",
    "#!python -m pip install pymupdf\n",
    "\n",
    "import fitz  # import PyMuPDF\n",
    "\n",
    "doc = fitz.open(\"1page.pdf\")  # a PDF in this folder\n",
    "page = doc[0]  # load first page"
   ]
  },
  {
   "attachments": {},
   "cell_type": "markdown",
   "metadata": {},
   "source": [
    "Execute in the conventional way, with a new TextPage every time.\n",
    "\n",
    "For every of the following extraction variants, the response times should be in range of 1 to 2.x **_milliseconds_**."
   ]
  },
  {
   "cell_type": "code",
   "execution_count": 9,
   "metadata": {},
   "outputs": [
    {
     "name": "stdout",
     "output_type": "stream",
     "text": [
      "1.33 ms ± 12.2 µs per loop (mean ± std. dev. of 7 runs, 1,000 loops each)\n",
      "1.43 ms ± 16 µs per loop (mean ± std. dev. of 7 runs, 1,000 loops each)\n",
      "1.37 ms ± 9.53 µs per loop (mean ± std. dev. of 7 runs, 1,000 loops each)\n",
      "1.5 ms ± 31.9 µs per loop (mean ± std. dev. of 7 runs, 1,000 loops each)\n",
      "2.18 ms ± 6.03 µs per loop (mean ± std. dev. of 7 runs, 100 loops each)\n"
     ]
    }
   ],
   "source": [
    "%timeit page.get_text(\"text\")  # basic \"naive\" text extraction\n",
    "%timeit page.get_text(\"words\")  # extract by separate words\n",
    "%timeit page.get_text(\"blocks\")  # extract by text paragraphs\n",
    "%timeit page.get_text(\"dict\")  # extract showing span-level details\n",
    "%timeit page.get_text(\"rawdict\")  # extract showing character details"
   ]
  },
  {
   "attachments": {},
   "cell_type": "markdown",
   "metadata": {},
   "source": [
    "We will now take timings of TextPage creation alone. It reveals that it **_always_** is the largest part of any text extraction variant shown before:"
   ]
  },
  {
   "cell_type": "code",
   "execution_count": 10,
   "metadata": {},
   "outputs": [
    {
     "name": "stdout",
     "output_type": "stream",
     "text": [
      "1.22 ms ± 12.6 µs per loop (mean ± std. dev. of 7 runs, 1,000 loops each)\n"
     ]
    }
   ],
   "source": [
    "%timeit page.get_textpage()"
   ]
  },
  {
   "attachments": {},
   "cell_type": "markdown",
   "metadata": {},
   "source": [
    "Compare the following text extraction response times, where an **_existing TextPage is reused_**, with the corresponding durations above. You should see execution time reductions by 60% to 95%.\n",
    "\n",
    "So if performance is a concern, do reuse a predefined Textpage!"
   ]
  },
  {
   "cell_type": "code",
   "execution_count": 11,
   "metadata": {},
   "outputs": [
    {
     "name": "stdout",
     "output_type": "stream",
     "text": [
      "38.7 µs ± 643 ns per loop (mean ± std. dev. of 7 runs, 10,000 loops each)\n",
      "114 µs ± 1.99 µs per loop (mean ± std. dev. of 7 runs, 10,000 loops each)\n",
      "47.5 µs ± 570 ns per loop (mean ± std. dev. of 7 runs, 10,000 loops each)\n",
      "187 µs ± 2.2 µs per loop (mean ± std. dev. of 7 runs, 10,000 loops each)\n",
      "771 µs ± 23.8 µs per loop (mean ± std. dev. of 7 runs, 1,000 loops each)\n"
     ]
    }
   ],
   "source": [
    "tp = page.get_textpage()  # prepare a separate textpage, then reuse it:\n",
    "%timeit page.get_text(\"text\", textpage=tp)  # -95%\n",
    "%timeit page.get_text(\"words\", textpage=tp)  # -90%\n",
    "%timeit page.get_text(\"blocks\", textpage=tp)  # -95%\n",
    "%timeit page.get_text(\"dict\", textpage=tp)  # -85%\n",
    "%timeit page.get_text(\"rawdict\", textpage=tp)  # -60%"
   ]
  },
  {
   "attachments": {},
   "cell_type": "markdown",
   "metadata": {},
   "source": [
    "If a text extraction reuses a TextPage, its duration goes down significantly - sometimes by more than 90% - in the **_microsecond_** region."
   ]
  },
  {
   "attachments": {},
   "cell_type": "markdown",
   "metadata": {},
   "source": [
    "## Realistic Use Cases\n",
    "Separate TextPages make sense if text of the **_same document page_** must be searched or extracted multiple times. \n",
    "\n",
    "The following example searches some text and then, for each hit rectangle extracts the text it contains (so spelling differenes can be investigated, or the presence of line breaks)."
   ]
  },
  {
   "cell_type": "code",
   "execution_count": 12,
   "metadata": {},
   "outputs": [],
   "source": [
    "def search1():  # do NOT reuse TextPage\n",
    "    \"\"\"Search for a word, then extract it from each hit rectangle.\n",
    "    Do not reuse intermediate TextPages.\n",
    "    \"\"\"\n",
    "    rl = page.search_for(\"pixmap\")\n",
    "    for r in rl:\n",
    "        text = page.get_textbox(r)\n",
    "\n",
    "def search2():  # reuse a TextPage\n",
    "    \"\"\"Search for a word,  then extract it from each hit rectangle.\n",
    "    Reuse a previously created TextPage.\n",
    "    \"\"\"\n",
    "    rl = page.search_for(\"pixmap\", textpage=tp)\n",
    "    for r in rl:\n",
    "        text = page.get_textbox(r, textpage=tp)"
   ]
  },
  {
   "cell_type": "code",
   "execution_count": 13,
   "metadata": {},
   "outputs": [
    {
     "name": "stdout",
     "output_type": "stream",
     "text": [
      "19.3 ms ± 207 µs per loop (mean ± std. dev. of 7 runs, 100 loops each)\n"
     ]
    }
   ],
   "source": [
    "%timeit search1()"
   ]
  },
  {
   "cell_type": "code",
   "execution_count": 14,
   "metadata": {},
   "outputs": [
    {
     "name": "stdout",
     "output_type": "stream",
     "text": [
      "548 µs ± 8.91 µs per loop (mean ± std. dev. of 7 runs, 1,000 loops each)\n"
     ]
    }
   ],
   "source": [
    "%timeit search2()"
   ]
  },
  {
   "attachments": {},
   "cell_type": "markdown",
   "metadata": {},
   "source": [
    "Again, reusing a TextPage has saved us more than 95% of the execution time."
   ]
  }
 ],
 "metadata": {
  "interpreter": {
   "hash": "dacf40ba69c4e52f13991c9802a7e3e4c13661a31627ca571217c8b5d093ad33"
  },
  "kernelspec": {
   "display_name": "Python 3.9.6 64-bit",
   "name": "python3"
  },
  "language_info": {
   "codemirror_mode": {
    "name": "ipython",
    "version": 3
   },
   "file_extension": ".py",
   "mimetype": "text/x-python",
   "name": "python",
   "nbconvert_exporter": "python",
   "pygments_lexer": "ipython3",
   "version": "3.11.3"
  },
  "orig_nbformat": 4
 },
 "nbformat": 4,
 "nbformat_minor": 2
}

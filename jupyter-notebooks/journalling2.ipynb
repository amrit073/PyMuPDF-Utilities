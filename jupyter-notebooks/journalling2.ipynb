{
 "cells": [
  {
   "cell_type": "markdown",
   "metadata": {},
   "source": [
    "# Demonstrating PDF Journalling - Part 3\n",
    "Journalling updates to a PDF is supported with MuPDF v1.19.*.\n",
    "\n",
    "For a basic notebook session, see `journalling1.ipynb`.\n",
    "\n",
    "In this notebook we demonstrate how to save a journalled PDF together with the journal such that both can be opened again later to continue journalled updating, undoing and redoing operations."
   ]
  },
  {
   "cell_type": "markdown",
   "metadata": {},
   "source": [
    "## Make journalled updates to an existing PDF and take a snapshot"
   ]
  },
  {
   "cell_type": "code",
   "execution_count": 40,
   "metadata": {},
   "outputs": [],
   "source": [
    "import fitz\n",
    "from pprint import pprint\n",
    "\n",
    "if tuple(map(int, fitz.VersionBind.split(\".\"))) < (1, 19, 0):\n",
    "    raise ValueError(\"Need PyMuPDF v1.19.0 or higher\")\n",
    "\n",
    "doc = fitz.open(\"1page.pdf\")  # work with an existing PDF\n",
    "doc.journal_enable()  # enable journalling for it\n",
    "doc.journal_start_op(\"new page\")\n",
    "page = doc.new_page()\n",
    "doc.journal_stop_op()\n",
    "# insert 5 text lines, each within its own operation:\n",
    "for i in range(5):\n",
    "    doc.journal_start_op(\"insert-%i\" % i)\n",
    "    page.insert_text((100, 100 + 20*i), \"This is line %i.\" % i)\n",
    "    doc.journal_stop_op()"
   ]
  },
  {
   "cell_type": "markdown",
   "metadata": {},
   "source": [
    "Show journal status information: number of current operation, total operation count."
   ]
  },
  {
   "cell_type": "code",
   "execution_count": 41,
   "metadata": {},
   "outputs": [
    {
     "data": {
      "text/plain": [
       "(6, 6)"
      ]
     },
     "execution_count": 41,
     "metadata": {},
     "output_type": "execute_result"
    }
   ],
   "source": [
    "doc.journal_position()"
   ]
  },
  {
   "cell_type": "markdown",
   "metadata": {},
   "source": [
    "We now take a snapshot of the current PDF and its journal. Motivations may e.g. be submitting it to some review, before any redactions are applied, or similar purposes."
   ]
  },
  {
   "cell_type": "code",
   "execution_count": 42,
   "metadata": {},
   "outputs": [],
   "source": [
    "snapname = doc.name.replace(\".pdf\", \"-snap1.pdf\")\n",
    "logname = doc.name.replace(\".pdf\", \"-snap1.log\")\n",
    "\n",
    "doc.save_snapshot(snapname)\n",
    "doc.journal_save(logname)\n",
    "doc.close()"
   ]
  },
  {
   "cell_type": "markdown",
   "metadata": {},
   "source": [
    "## Open snapshot PDF and its synchronized journal\n",
    "The resulting file, `1page-snap1.pdf\", is a valid PDF in every sense of the word: it can be displayed or printed, text can be extracted, etc.\n",
    "\n",
    "The journal file is like a protocol of all changes applied in the last update session. Its validity is dependent on the the PDF snapshot **_not neing changed in any way._**\n",
    "\n",
    "If this condition is met and snapshop PDF and its journal are still snychronized, both can be opened to continue journalled updates."
   ]
  },
  {
   "cell_type": "code",
   "execution_count": 43,
   "metadata": {},
   "outputs": [],
   "source": [
    "doc = fitz.open(snapname)  # open last update state of the PDF\n",
    "doc.journal_load(logname)  # load the - hopefully compatible - journal"
   ]
  },
  {
   "cell_type": "markdown",
   "metadata": {},
   "source": [
    "This has worked!\n",
    "\n",
    "Now make a few checks to see what we have got:"
   ]
  },
  {
   "cell_type": "code",
   "execution_count": 44,
   "metadata": {},
   "outputs": [
    {
     "name": "stdout",
     "output_type": "stream",
     "text": [
      "Snapshot PDF '1page-snap1.pdf' contains the following update status:\n",
      "\n",
      "Operation 0: 'new page'\n",
      "Operation 1: 'insert-0'\n",
      "Operation 2: 'insert-1'\n",
      "Operation 3: 'insert-2'\n",
      "Operation 4: 'insert-3'\n",
      "Operation 5: 'insert-4'\n",
      "\n",
      "Possible actions:\n",
      "    undo: 'True'\n",
      "    redo: 'False'\n"
     ]
    }
   ],
   "source": [
    "print(\"Snapshot PDF '%s' contains the following update status:\" % snapname)\n",
    "print()\n",
    "current, total = doc.journal_position()\n",
    "for i in range(total):\n",
    "    print(\"Operation %i: '%s'\" % (i, doc.journal_op_name(i)))\n",
    "\n",
    "actions = doc.journal_can_do()\n",
    "print()\n",
    "print(\"Possible actions:\")\n",
    "print(\"    undo: '%s'\" % actions[\"undo\"])\n",
    "print(\"    redo: '%s'\" % actions[\"redo\"])"
   ]
  }
 ],
 "metadata": {
  "interpreter": {
   "hash": "dacf40ba69c4e52f13991c9802a7e3e4c13661a31627ca571217c8b5d093ad33"
  },
  "kernelspec": {
   "display_name": "Python 3.9.6 64-bit",
   "name": "python3"
  },
  "language_info": {
   "codemirror_mode": {
    "name": "ipython",
    "version": 3
   },
   "file_extension": ".py",
   "mimetype": "text/x-python",
   "name": "python",
   "nbconvert_exporter": "python",
   "pygments_lexer": "ipython3",
   "version": "3.9.6"
  },
  "orig_nbformat": 4
 },
 "nbformat": 4,
 "nbformat_minor": 2
}

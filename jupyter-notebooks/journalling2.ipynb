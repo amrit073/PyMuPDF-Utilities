{
 "cells": [
  {
   "attachments": {},
   "cell_type": "markdown",
   "metadata": {},
   "source": [
    "# Demonstrating PDF Journalling - Part 2\n",
    "\n",
    "For an introduction to PDF journalling please see the basic notebook [here](https://github.com/pymupdf/PyMuPDF-Utilities/blob/master/jupyter-notebooks/journalling1.ipynb).\n",
    "\n",
    "In this notebook we demonstrate how to save a journalled PDF together with the journal such that both can be opened again later, for instance to continue journalled updating, and undoing or redoing operations. You will learn how to:\n",
    "\n",
    "1. Log changes to an existing file and save the current state.\n",
    "2. Restart or continue a previously saved journalling session.\n",
    "3. Use the journalling feature to detect unauthorized changes."
   ]
  },
  {
   "attachments": {},
   "cell_type": "markdown",
   "metadata": {},
   "source": [
    "## How to save Journal and PDF for later restart\n",
    "\n",
    "We will open an existing PDF and add a new page with some text lines on it. This is much like what we have learned in the previous, introductory notebook."
   ]
  },
  {
   "cell_type": "code",
   "execution_count": 1,
   "metadata": {},
   "outputs": [],
   "source": [
    "import fitz\n",
    "from pprint import pprint\n",
    "\n",
    "if tuple(map(int, fitz.VersionBind.split(\".\"))) < (1, 19, 0):\n",
    "    raise ValueError(\"Need PyMuPDF v1.19.0 or higher\")\n",
    "\n",
    "doc = fitz.open(\"1page.pdf\")  # work with an existing PDF\n",
    "doc.journal_enable()  # enable journalling for it\n",
    "doc.journal_start_op(\"new page\")\n",
    "page = doc.new_page()\n",
    "doc.journal_stop_op()\n",
    "# insert 5 text lines, each within its own operation:\n",
    "for i in range(5):\n",
    "    doc.journal_start_op(\"insert-%i\" % i)\n",
    "    page.insert_text((100, 100 + 20*i), \"This is line %i.\" % i)\n",
    "    doc.journal_stop_op()"
   ]
  },
  {
   "attachments": {},
   "cell_type": "markdown",
   "metadata": {},
   "source": [
    "We now take a snapshot of the current PDF and its journal. Motivations may e.g. be submitting it to some review, before any redactions are applied, or similar purposes."
   ]
  },
  {
   "cell_type": "code",
   "execution_count": 2,
   "metadata": {},
   "outputs": [],
   "source": [
    "snapname = doc.name.replace(\".pdf\", \"-snap.pdf\")\n",
    "logname = doc.name.replace(\".pdf\", \"-snap.log\")\n",
    "\n",
    "doc.save_snapshot(snapname)\n",
    "doc.journal_save(logname)\n",
    "doc.close()"
   ]
  },
  {
   "attachments": {},
   "cell_type": "markdown",
   "metadata": {},
   "source": [
    "## How to Open a PDF Snapshot and the Associated Journal\n",
    "The resulting file, `1page-snap.pdf\", is a valid PDF in every aspect: it can be displayed or printed, text can be extracted, etc.\n",
    "\n",
    "When opening the snapshot PDF and loading the associated journal, any changes applied during journalling can be undone, or more changes can be applied. When finished, take another snapshot and save the journal file again, and so forth."
   ]
  },
  {
   "cell_type": "code",
   "execution_count": 3,
   "metadata": {},
   "outputs": [],
   "source": [
    "doc = fitz.open(snapname)  # open last update state of the PDF\n",
    "doc.journal_load(logname)  # load the - matchin! - journal file"
   ]
  },
  {
   "attachments": {},
   "cell_type": "markdown",
   "metadata": {},
   "source": [
    "When the journal file is loaded as above, the following actions take place:\n",
    "\n",
    "1. Read the content of the journal and confirm that the document matches it.\n",
    "2. If successful, journalling is automatically enabled, and current journal position is established.\n",
    "\n",
    "If the journal **_does not match_** the PDF, an exception is raised. This can be used to detect changes to a PDF - see below.\n",
    "\n",
    "We now make a few checks to see what we have got:"
   ]
  },
  {
   "cell_type": "code",
   "execution_count": 4,
   "metadata": {},
   "outputs": [
    {
     "name": "stdout",
     "output_type": "stream",
     "text": [
      "Snapshot PDF '1page-snap.pdf' has the following update status:\n",
      "\n",
      "Journal position 6, operations count 6.\n",
      "Operation 0: 'new page'\n",
      "Operation 1: 'insert-0'\n",
      "Operation 2: 'insert-1'\n",
      "Operation 3: 'insert-2'\n",
      "Operation 4: 'insert-3'\n",
      "Operation 5: 'insert-4'\n",
      "\n",
      "Possible actions:\n",
      "    undo: 'True'\n",
      "    redo: 'False'\n"
     ]
    }
   ],
   "source": [
    "print(f\"Snapshot PDF '{snapname}' has the following update status:\")\n",
    "print()\n",
    "pos, count = doc.journal_position()\n",
    "print(f\"Journal position {pos}, operations count {count}.\")\n",
    "for i in range(count):\n",
    "    print(\"Operation %i: '%s'\" % (i, doc.journal_op_name(i)))\n",
    "\n",
    "actions = doc.journal_can_do()\n",
    "print()\n",
    "print(\"Possible actions:\")\n",
    "print(\"    undo: '%s'\" % actions[\"undo\"])\n",
    "print(\"    redo: '%s'\" % actions[\"redo\"])"
   ]
  },
  {
   "attachments": {},
   "cell_type": "markdown",
   "metadata": {},
   "source": [
    "## How to Use Journalling for Detecting Unauthorized Updates\n",
    "\n",
    "As a side benefit, the journalling feature can be used to confirm that a PDF still is the expected version, or to detect unauthorized changes.\n",
    "\n",
    "Follow this approach to store the current PDF state:"
   ]
  },
  {
   "cell_type": "code",
   "execution_count": 5,
   "metadata": {},
   "outputs": [],
   "source": [
    "doc = fitz.open(\"input.pdf\")\n",
    "doc.journal_enable()\n",
    "doc.journal_save(doc.name + \"-status.log\")  # chhoose a suitable journal filename\n",
    "doc.close()"
   ]
  },
  {
   "attachments": {},
   "cell_type": "markdown",
   "metadata": {},
   "source": [
    "Even if no updates are happening, the journal as a minimum will contain a so-called `Fingerprint` (hash value) that can be used to confirm the PDF's identity. This is independent from any password protection, the file name, or PDF-internal `/ID` field values. In our case, the journal will look like this:\n",
    "\n",
    "----------\n",
    "\n",
    "%!MuPDF-Journal-100\n",
    "\n",
    "journal\n",
    "<<\n",
    "/NumSections 0\n",
    "/FileSize 210721\n",
    "/Fingerprint <57c84501e4baddef56fd26959a808cfc>\n",
    "/HistoryPos 0\n",
    ">>\n",
    "endjournal\n",
    "\n",
    "----------\n",
    "\n",
    "When processing the PDF in some downstream application, perform the following check:"
   ]
  },
  {
   "cell_type": "code",
   "execution_count": 6,
   "metadata": {},
   "outputs": [
    {
     "name": "stdout",
     "output_type": "stream",
     "text": [
      "Confirming: file 'input.pdf' is in expected state.\n",
      "Journalling enabled: False.\n"
     ]
    }
   ],
   "source": [
    "doc = fitz.open(\"input.pdf\")\n",
    "try:\n",
    "    doc.journal_load(doc.name + \"-status.log\")  # load previously saved journal\n",
    "    print(f\"Confirming: file '{doc.name}' is in expected state.\")\n",
    "    doc.close()  # to switch off journalling\n",
    "    doc = fitz.open(doc.name)\n",
    "except Exception as e:\n",
    "    print (f\"Unauthorized changes to file '{doc.name}' detected.\")\n",
    "    raise\n",
    "print(f\"Journalling enabled: {doc.journal_is_enabled()}.\")  # confirming: journalling disabled"
   ]
  },
  {
   "attachments": {},
   "cell_type": "markdown",
   "metadata": {},
   "source": [
    "## Conclusion\n",
    "\n",
    "In this notebook we have learned:\n",
    "\n",
    "1. How to log updates to an existing PDF and save the current state\n",
    "2. How to resume a previous journalling session and continue updating\n",
    "3. How to confirm the expected state of a PDF in downstream applications."
   ]
  }
 ],
 "metadata": {
  "interpreter": {
   "hash": "dacf40ba69c4e52f13991c9802a7e3e4c13661a31627ca571217c8b5d093ad33"
  },
  "kernelspec": {
   "display_name": "Python 3.9.6 64-bit",
   "name": "python3"
  },
  "language_info": {
   "codemirror_mode": {
    "name": "ipython",
    "version": 3
   },
   "file_extension": ".py",
   "mimetype": "text/x-python",
   "name": "python",
   "nbconvert_exporter": "python",
   "pygments_lexer": "ipython3",
   "version": "3.11.3"
  },
  "orig_nbformat": 4
 },
 "nbformat": 4,
 "nbformat_minor": 2
}

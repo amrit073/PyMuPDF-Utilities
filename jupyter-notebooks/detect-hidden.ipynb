{
 "cells": [
  {
   "attachments": {},
   "cell_type": "markdown",
   "metadata": {},
   "source": [
    "# Detecting Faked Redactions\n",
    "PyMuPDF has ways to detect **fake redactions.** This refers to text that **_appears_** to be deleted and replaced by a black rectangle, whereas in reality the text is still there and is just **covered** by a rectangle.\n",
    "\n",
    "In such cases, the text could still be extracted and sensitive or confidential information would thus be leaked. For example, in a legal context it is important to know whether sensitive personal information is insufficiently protected.\n",
    "\n",
    "> Do have a look at the [this](https://github.com/freelawproject/x-ray) project, which makes active use of PyMuPDF features to help detect situations like these."
   ]
  },
  {
   "attachments": {},
   "cell_type": "markdown",
   "metadata": {},
   "source": [
    "## The Example Document Page\n",
    "We will show an example of some legal document, which **_pretends_** to protect sensitive information by black rectangles.\n",
    "\n",
    "In the course of this notebook we will exhibit, that the sensitive texts is in fact **_not protected_** and can still be extracted."
   ]
  },
  {
   "cell_type": "code",
   "execution_count": null,
   "metadata": {},
   "outputs": [],
   "source": [
    "# uncomment the following line(s) to ensure that all packages are available:\n",
    "#!python -m pip install matplotlib\n",
    "#!python -m pip install -U pymupdf\n",
    "\n",
    "%matplotlib inline\n",
    "import fitz  # import PyMuPDF\n",
    "\n",
    "def show_image(pix):\n",
    "    \"\"\"Display a pixmap using matplotlib and numpy.\"\"\"\n",
    "    import matplotlib.pyplot as plt  # needed for displaying intermediate images\n",
    "    import numpy as np  # needed for displaying intermediate images\n",
    "    img = np.ndarray((pix.h, pix.w, 3), dtype=np.uint8, buffer=pix.samples_mv)  # raw image to numpy array\n",
    "    image = plt.imshow(img)  # let matplotlib show the image"
   ]
  },
  {
   "attachments": {},
   "cell_type": "markdown",
   "metadata": {},
   "source": [
    "Open example PDF and access its first page:"
   ]
  },
  {
   "cell_type": "code",
   "execution_count": null,
   "metadata": {},
   "outputs": [],
   "source": [
    "doc = fitz.open(\"blacked.pdf\")\n",
    "page = doc[0]  # this page contains 3 fake redactions"
   ]
  },
  {
   "attachments": {},
   "cell_type": "markdown",
   "metadata": {},
   "source": [
    "Display an image of the page to show the situation: There are three black rectangles in the page's upper half, that render text invisible. The question is how to detect whether the original text really is gone and not extractable?"
   ]
  },
  {
   "cell_type": "code",
   "execution_count": null,
   "metadata": {},
   "outputs": [],
   "source": [
    "# rectangles are in upper page half, make an illustrative image\n",
    "clip = page.rect\n",
    "clip.y1 /= 2\n",
    "pix = page.get_pixmap(clip=clip)\n",
    "show_image(pix)"
   ]
  },
  {
   "attachments": {},
   "cell_type": "markdown",
   "metadata": {},
   "source": [
    "## The Detection Algorithm\n",
    "We now try to find text that is covered by some black rectangle.\n",
    "\n",
    "In this context it is important to note that a page's appearance is created by a set of special commands, which are executed sequentially by PDF document viewers.\n",
    "\n",
    "Having this in mind, we can conclude that text is **_hidden_** if a non-transparent black rectangle is drawn \"later\", that covers the same area.\n",
    "\n",
    "These considerations bring us to our detection strategy:\n",
    "1. Find rectangular vector graphics with fill color black and no transparency.\n",
    "2. Find text characters positioned in one of these rectangles, that are written **_before_** the rectangle is drawn."
   ]
  },
  {
   "cell_type": "code",
   "execution_count": null,
   "metadata": {},
   "outputs": [],
   "source": [
    "# find black non-transparent rectangles\n",
    "vector_rects = {}  # stores black rectangles and their writing sequence number\n",
    "for p in page.get_drawings():  # walk through the vector graphics\n",
    "    if p[\"type\"] == \"s\":  # we are interested in paths with a fill color only\n",
    "        continue\n",
    "    if p[\"fill_opacity\"] != 1: # must be non-transparent\n",
    "        continue\n",
    "    if p[\"fill\"] != (0, 0, 0): # only look at black fill color\n",
    "        continue\n",
    "    for item in p[\"items\"]:  # make sure the graphic does contain rectangles\n",
    "        if not item[0] == \"re\":\n",
    "            continue\n",
    "        rect = item[1]  # the rectangle coordinates\n",
    "        if rect.width <= 3 or rect.height <= 3:  # omit tiny rectangles\n",
    "            continue\n",
    "        vector_rects[rect] = p[\"seqno\"]  # this is a rectangle candidate with its sequence number\n",
    "print(f\"There are {len(vector_rects)} suspicious rectangles.\")"
   ]
  },
  {
   "attachments": {},
   "cell_type": "markdown",
   "metadata": {},
   "source": [
    "We obviously have located the three rectangles shown in the picture above.\n",
    "\n",
    "Now hunt down any characters that are written earlier (i.e. smaller sequence numbers) and are at least partly covered by some black rectangle.\n",
    "\n",
    "Let us start with a list of **_all_** characters with their bounding box and the writing sequence number:"
   ]
  },
  {
   "cell_type": "code",
   "execution_count": null,
   "metadata": {},
   "outputs": [],
   "source": [
    "# make a list of all characters with their bbox and the writing sequence number\n",
    "chars = []\n",
    "for span in page.get_texttrace():  # this method gives us all needed information\n",
    "    seqno = span[\"seqno\"]  # the writing sequence number of the text piece\n",
    "    for c, _, o, b in span[\"chars\"]:  # iterate over character items\n",
    "        ch = chr(c)  # convert unicode to character string\n",
    "        if not ch.isalnum():  # we are only interested in alphanumeric text\n",
    "            continue  # no spaces, punctuations etc.\n",
    "        bbox = fitz.Rect(b)  # convert the delivered tuple to a Rect object\n",
    "        chars.append((chr(c), bbox, seqno))  # store char info"
   ]
  },
  {
   "attachments": {},
   "cell_type": "markdown",
   "metadata": {},
   "source": [
    "In the final step we bring together the above two information pieces to produce our result."
   ]
  },
  {
   "cell_type": "code",
   "execution_count": null,
   "metadata": {},
   "outputs": [],
   "source": [
    "for i, r in enumerate(vector_rects.keys()):  # iterate over black rectangles\n",
    "    # compute a list of characters (partly) covered by r and written earlier\n",
    "    rseqno = vector_rects[r]  # sequence number of r\n",
    "    contains = [\n",
    "        c for c, bbox, seqno in chars if abs(bbox & r) > 0 and seqno < rseqno\n",
    "    ]\n",
    "    if contains != []:  # if this rectangle covers any text, show it\n",
    "        text = \"\".join(contains)\n",
    "        print(f\"Rectangle {i} hides '{text}'.\")"
   ]
  },
  {
   "attachments": {},
   "cell_type": "markdown",
   "metadata": {},
   "source": [
    "# The Detection Result\n",
    "The above algorithm has correctly uncovered three fake redactions and exhibited the text that was not correctly erased."
   ]
  }
 ],
 "metadata": {
  "interpreter": {
   "hash": "dacf40ba69c4e52f13991c9802a7e3e4c13661a31627ca571217c8b5d093ad33"
  },
  "kernelspec": {
   "display_name": "Python 3 (ipykernel)",
   "language": "python",
   "name": "python3"
  },
  "language_info": {
   "codemirror_mode": {
    "name": "ipython",
    "version": 3
   },
   "file_extension": ".py",
   "mimetype": "text/x-python",
   "name": "python",
   "nbconvert_exporter": "python",
   "pygments_lexer": "ipython3",
   "version": "3.11.1"
  }
 },
 "nbformat": 4,
 "nbformat_minor": 2
}

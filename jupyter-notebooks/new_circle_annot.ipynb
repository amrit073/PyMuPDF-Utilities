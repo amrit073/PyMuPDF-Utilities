{
  "cells": [
    {
      "cell_type": "markdown",
      "id": "lightweight-angola",
      "metadata": {
        "id": "lightweight-angola"
      },
      "source": [
        "# PyMuPDF: Inserting an Annotation on a PDF Page\n",
        "\n",
        "This notebook creates a new, empty PDF and a new page in ISO A4 format.\n",
        "We define a \"Circle\" annotation and display the result.\n",
        "> **_Note:_** Apart from importing PyMuPDF itself (fitz), we need some technical preparations which will allow us to display graphical content inline with this document."
      ]
    },
    {
      "cell_type": "code",
      "execution_count": null,
      "id": "elder-trash",
      "metadata": {
        "colab": {
          "base_uri": "https://localhost:8080/"
        },
        "id": "elder-trash",
        "outputId": "d08739b1-96c3-4940-c5d1-8869a8264ddd"
      },
      "outputs": [],
      "source": [
        "# making sure we have required packages installed\n",
        "!python -m pip install pymupdf\n",
        "!python -m pip install matplotlib\n",
        "\n",
        "import fitz  # import PyMuPDF\n",
        "\n",
        "def show_image(pix):\n",
        "    \"\"\"Display a pixmap.\n",
        "    \n",
        "    Just to display images - ignore the man behind the curtain.\n",
        "    \"\"\"\n",
        "    import numpy as np\n",
        "    import matplotlib.pyplot as plt\n",
        "    img = np.ndarray([pix.h, pix.w, 3], dtype=np.uint8, buffer=pix.samples)\n",
        "    _ = plt.imshow(img)"
      ]
    },
    {
      "cell_type": "markdown",
      "id": "improved-dylan",
      "metadata": {
        "id": "improved-dylan"
      },
      "source": [
        "Create a new PDF with a new page:"
      ]
    },
    {
      "cell_type": "code",
      "execution_count": null,
      "id": "engaged-ministry",
      "metadata": {
        "id": "engaged-ministry"
      },
      "outputs": [],
      "source": [
        "doc = fitz.open()\n",
        "page = doc.new_page()"
      ]
    },
    {
      "cell_type": "markdown",
      "id": "varied-benchmark",
      "metadata": {
        "id": "varied-benchmark"
      },
      "source": [
        "Define some rectangle within which we want to show the annotation: size: 200 x 100, top-left: (100, 100), bottom-right (300, 200)."
      ]
    },
    {
      "cell_type": "code",
      "execution_count": null,
      "id": "enabling-letters",
      "metadata": {
        "id": "enabling-letters"
      },
      "outputs": [],
      "source": [
        "rect = fitz.Rect(100, 100, 300, 200)"
      ]
    },
    {
      "cell_type": "markdown",
      "id": "sexual-score",
      "metadata": {
        "id": "sexual-score"
      },
      "source": [
        "We now make a 'Circle' (ellipse) annotation."
      ]
    },
    {
      "cell_type": "code",
      "execution_count": null,
      "id": "sized-dealing",
      "metadata": {
        "id": "sized-dealing"
      },
      "outputs": [],
      "source": [
        "annot = page.add_circle_annot(rect)"
      ]
    },
    {
      "cell_type": "markdown",
      "id": "double-cambridge",
      "metadata": {
        "id": "double-cambridge"
      },
      "source": [
        "The result is an **_actual circle only_** if the rectangle width equals the height, `rect.width == rect.height`, otherwise an ellipse. In our case, the result will be an **_ellipse:_** width is 200 and height is 100. Feel free to change the above rectangle definition!\n",
        "\n",
        "Here are some basic annotation information about the just created annotation"
      ]
    },
    {
      "cell_type": "code",
      "execution_count": null,
      "id": "external-suffering",
      "metadata": {
        "colab": {
          "base_uri": "https://localhost:8080/"
        },
        "id": "external-suffering",
        "outputId": "2b2f32f8-7202-4bc1-8892-3fc12e153e52"
      },
      "outputs": [],
      "source": [
        "print(annot)  # Python-level information\n",
        "for k, v in annot.info.items():  # spell out the information dictionary\n",
        "    print(f\"{k} = '{v}'\")"
      ]
    },
    {
      "cell_type": "markdown",
      "id": "dimensional-privilege",
      "metadata": {
        "id": "dimensional-privilege"
      },
      "source": [
        "The standard line width is 1 and the colors for **'Circle'** annotations are **red** for the border ('stroke') and *None* (empty) for the interior ('fill'), see here:"
      ]
    },
    {
      "cell_type": "code",
      "execution_count": null,
      "id": "interracial-thailand",
      "metadata": {
        "colab": {
          "base_uri": "https://localhost:8080/"
        },
        "id": "interracial-thailand",
        "outputId": "02850e08-1a92-4292-ffbd-5ea8d144a27b"
      },
      "outputs": [],
      "source": [
        "print(\"standard colors:\", annot.colors)  # show the default colors,\n",
        "print(\"standard border:\", annot.border)  # ... the border\n",
        "show_image(annot.get_pixmap())  # ... and the annot image"
      ]
    },
    {
      "cell_type": "markdown",
      "id": "simple-printing",
      "metadata": {
        "id": "simple-printing"
      },
      "source": [
        "Let us be a little creative and give our annotation a **blue** border and a **yellow** interior:"
      ]
    },
    {
      "cell_type": "code",
      "execution_count": null,
      "id": "accepting-walnut",
      "metadata": {
        "id": "accepting-walnut"
      },
      "outputs": [],
      "source": [
        "annot.set_colors(stroke=fitz.pdfcolor[\"blue\"], fill=fitz.pdfcolor[\"yellow\"])"
      ]
    },
    {
      "cell_type": "markdown",
      "id": "e1f3c829",
      "metadata": {
        "id": "e1f3c829"
      },
      "source": [
        "How about adding some dashing to the border? Let's use strokes of 5 points length followed by 2 point gaps. We also use a larger line thickness: 4."
      ]
    },
    {
      "cell_type": "code",
      "execution_count": null,
      "id": "ffb275d8",
      "metadata": {
        "id": "ffb275d8"
      },
      "outputs": [],
      "source": [
        "annot.set_border(dashes=[5, 2], width=4)"
      ]
    },
    {
      "cell_type": "markdown",
      "id": "variable-illustration",
      "metadata": {
        "id": "variable-illustration"
      },
      "source": [
        "Changes to an annotation's appearance require invoking its `update()` method to activate them.\n",
        "\n",
        "This is needed only once - after all desired changes have been made."
      ]
    },
    {
      "cell_type": "code",
      "execution_count": null,
      "id": "greek-definition",
      "metadata": {
        "id": "greek-definition"
      },
      "outputs": [],
      "source": [
        "annot.update()"
      ]
    },
    {
      "cell_type": "markdown",
      "id": "9e95a664",
      "metadata": {
        "id": "9e95a664"
      },
      "source": [
        "Here is how the annotation looks like now:"
      ]
    },
    {
      "cell_type": "code",
      "execution_count": null,
      "id": "flexible-picking",
      "metadata": {
        "id": "flexible-picking"
      },
      "outputs": [],
      "source": [
        "show_image(annot.get_pixmap())"
      ]
    },
    {
      "cell_type": "markdown",
      "id": "7c55f7fc",
      "metadata": {
        "id": "7c55f7fc"
      },
      "source": [
        "And here is the image of the **full page**, showing the annotation's location on it:"
      ]
    },
    {
      "cell_type": "code",
      "execution_count": null,
      "id": "defensive-volleyball",
      "metadata": {
        "id": "defensive-volleyball"
      },
      "outputs": [],
      "source": [
        "show_image(page.get_pixmap())"
      ]
    }
  ],
  "metadata": {
    "colab": {
      "provenance": []
    },
    "interpreter": {
      "hash": "dacf40ba69c4e52f13991c9802a7e3e4c13661a31627ca571217c8b5d093ad33"
    },
    "kernelspec": {
      "display_name": "Python 3 (ipykernel)",
      "language": "python",
      "name": "python3"
    },
    "language_info": {
      "codemirror_mode": {
        "name": "ipython",
        "version": 3
      },
      "file_extension": ".py",
      "mimetype": "text/x-python",
      "name": "python",
      "nbconvert_exporter": "python",
      "pygments_lexer": "ipython3",
      "version": "3.11.3"
    }
  },
  "nbformat": 4,
  "nbformat_minor": 5
}

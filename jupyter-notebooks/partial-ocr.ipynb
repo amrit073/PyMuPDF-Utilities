{
 "cells": [
  {
   "cell_type": "markdown",
   "metadata": {},
   "source": [
    "# OCR Demo: Full vs. Partial OCR of Pages\n",
    "In v1.19.1 of PyMuPDF there are two choices of OCRing a document page: **_full_** or **_partial_**. In both cases, a `TextPage` object will be created - available for text extractions and text searches as usual. All these text processing methods have been extended with the new parameter `textpage` to allow referencing the OCR result.\n",
    "* A **_full OCR_** makes a photo of the page with the desired resolution and interprets it.\n",
    "   - All **_visible text_** on the page will be OCRed.\n",
    "   - All text will have Tesseract's \"GlyphlessFont\".\n",
    "   - May take around 2 seonds - depending on text amount and DPI.\n",
    "* A **_partial OCR_** interprets only the images displayed by the page.\n",
    "   - The DPI parameter is not needed, because the original images are OCRed.\n",
    "   - Text will be a **_mixture of normal and OCR text_**. Normal text retains its properties.\n",
    "   - Can be much faster than a full OCR."
   ]
  },
  {
   "cell_type": "code",
   "execution_count": 1,
   "metadata": {},
   "outputs": [],
   "source": [
    "import fitz\n",
    "\n",
    "if tuple(map(int, fitz.VersionBind.split(\".\"))) < (1, 19, 1):\n",
    "    raise ValueError(\"Need at least v1.19.1 of PyMuPDF\")\n",
    "\n",
    "# eample PDF contains normal text and two overlapping images\n",
    "doc = fitz.open(\"partial-ocr.pdf\")\n",
    "page = doc[0]"
   ]
  },
  {
   "cell_type": "markdown",
   "metadata": {},
   "source": [
    "## Full Page OCR\n",
    "First make a **_full page OCR_**. Please take a look at the PDF and note the two little text lines. They are contained in a separate, non-transparent image, which covers some text of the larger image underneath it."
   ]
  },
  {
   "cell_type": "code",
   "execution_count": 2,
   "metadata": {},
   "outputs": [
    {
     "name": "stdout",
     "output_type": "stream",
     "text": [
      "PDF\n",
      "PyMuPDF — the Python\n",
      "soe urs ton na\n",
      "luPDF\n",
      "PyMuPDF Documentation\n",
      "Release 1.19.0\n",
      "Jorj X. McKie\n",
      "Oct 17, 2021\n",
      "\n"
     ]
    }
   ],
   "source": [
    "# make the TextPage object. It does all the OCR.\n",
    "full_tp = page.get_textpage_ocr(flags=0, dpi=300, full=True)\n",
    "\n",
    "# now look at what we have got\n",
    "print(page.get_text(textpage=full_tp))"
   ]
  },
  {
   "cell_type": "markdown",
   "metadata": {},
   "source": [
    "Or blockwise output, getting rid of some of the unwanted linebreaks:"
   ]
  },
  {
   "cell_type": "code",
   "execution_count": 3,
   "metadata": {},
   "outputs": [
    {
     "name": "stdout",
     "output_type": "stream",
     "text": [
      "PDF \n",
      "PyMuPDF — the Python \n",
      "soe urs ton na luPDF PyMuPDF Documentation Release 1.19.0 \n",
      "Jorj X. McKie \n",
      "Oct 17, 2021 \n"
     ]
    }
   ],
   "source": [
    "blocks = page.get_text(\"blocks\", textpage=full_tp)\n",
    "for b in blocks:\n",
    "    print(b[4].replace(\"\\n\", \" \"))"
   ]
  },
  {
   "cell_type": "markdown",
   "metadata": {},
   "source": [
    "Not very impressive either way: the original text (last 4 lines) was detected ok, but text in the pictures looks quite garbled ... no surprise!\n",
    "\n",
    "> Please note, that the OCR process scans the page from top-left to bottom-right - which therefore also is the sequence of the extraction.\n",
    "\n",
    "This is what we get when looking at details of each text span:"
   ]
  },
  {
   "cell_type": "code",
   "execution_count": 4,
   "metadata": {},
   "outputs": [
    {
     "name": "stdout",
     "output_type": "stream",
     "text": [
      "GlyphLessFont IRect(222, 188, 297, 221) PDF\n",
      "GlyphLessFont IRect(282, 273, 390, 298) PyMuPDF\n",
      "GlyphLessFont IRect(389, 273, 411, 298)  —\n",
      "GlyphLessFont IRect(410, 273, 453, 298)  the\n",
      "GlyphLessFont IRect(452, 273, 540, 298)  Python\n",
      "GlyphLessFont IRect(283, 300, 307, 336) soe\n",
      "GlyphLessFont IRect(306, 300, 331, 336)  urs\n",
      "GlyphLessFont IRect(330, 300, 363, 336)  ton\n",
      "GlyphLessFont IRect(362, 300, 391, 336)  na\n",
      "GlyphLessFont IRect(457, 300, 521, 336) luPDF\n",
      "GlyphLessFont IRect(239, 348, 352, 373) PyMuPDF\n",
      "GlyphLessFont IRect(351, 348, 538, 373)  Documentation\n",
      "GlyphLessFont IRect(423, 382, 488, 396) Release\n",
      "GlyphLessFont IRect(487, 382, 541, 396)  1.19.0\n",
      "GlyphLessFont IRect(432, 478, 463, 496) Jorj\n",
      "GlyphLessFont IRect(462, 478, 484, 496)  X.\n",
      "GlyphLessFont IRect(483, 478, 540, 496)  McKie\n",
      "GlyphLessFont IRect(470, 641, 489, 656) Oct\n",
      "GlyphLessFont IRect(488, 641, 510, 656)  17,\n",
      "GlyphLessFont IRect(509, 641, 538, 656)  2021\n"
     ]
    }
   ],
   "source": [
    "for block in page.get_text(\"dict\", textpage=full_tp)[\"blocks\"]:\n",
    "    for line in block[\"lines\"]:\n",
    "        for span in line[\"spans\"]:\n",
    "            bbox = fitz.Rect(span[\"bbox\"]).irect  # just to make it short in the display\n",
    "            print( span[\"font\"], bbox, span[\"text\"])"
   ]
  },
  {
   "cell_type": "markdown",
   "metadata": {},
   "source": [
    "## Partial OCR\n",
    "Let's see what a **_partial OCR_** can do for us.\n",
    "\n",
    "A partial OCR `TextPage` internally stores text in the following sequence:\n",
    "1. Normal text\n",
    "2. OCR text from images in the same sequence as the page displays those images\n",
    "\n",
    "So we better use the `sort` parameter of text extraction."
   ]
  },
  {
   "cell_type": "code",
   "execution_count": 5,
   "metadata": {},
   "outputs": [
    {
     "name": "stdout",
     "output_type": "stream",
     "text": [
      "=\n",
      "PDF\n",
      "Some text as line\n",
      "1.\n",
      "Some more text as line 2.\n",
      "PyMuPDF — the Python\n",
      "bindings for MuPDF\n",
      "PyMuPDF Documentation\n",
      "Release 1.19.0\n",
      "Jorj X. McKie\n",
      "Oct 17, 2021\n",
      "\n"
     ]
    }
   ],
   "source": [
    "partial_tp = page.get_textpage_ocr(flags=0, full=False)\n",
    "\n",
    "# look at the result\n",
    "print(page.get_text(textpage=partial_tp, sort=True))  # sort by vertical, then horizontal"
   ]
  },
  {
   "cell_type": "markdown",
   "metadata": {},
   "source": [
    "This is very much better. Looking again at span details:"
   ]
  },
  {
   "cell_type": "code",
   "execution_count": 6,
   "metadata": {},
   "outputs": [
    {
     "name": "stdout",
     "output_type": "stream",
     "text": [
      "GlyphLessFont IRect(284, 189, 297, 202) =\n",
      "GlyphLessFont IRect(222, 188, 297, 221) PDF\n",
      "GlyphLessFont IRect(283, 302, 307, 310) Some\n",
      "GlyphLessFont IRect(306, 302, 326, 310)  text\n",
      "GlyphLessFont IRect(325, 302, 339, 310)  as\n",
      "GlyphLessFont IRect(338, 302, 356, 310)  line\n",
      "GlyphLessFont IRect(360, 302, 363, 310) 1.\n",
      "GlyphLessFont IRect(283, 320, 307, 328) Some\n",
      "GlyphLessFont IRect(306, 320, 333, 328)  more\n",
      "GlyphLessFont IRect(332, 320, 350, 328)  text\n",
      "GlyphLessFont IRect(349, 320, 363, 328)  as\n",
      "GlyphLessFont IRect(362, 320, 381, 328)  line\n",
      "GlyphLessFont IRect(380, 320, 389, 328)  2.\n",
      "GlyphLessFont IRect(282, 273, 390, 298) PyMuPDF\n",
      "GlyphLessFont IRect(389, 273, 411, 298)  —\n",
      "GlyphLessFont IRect(410, 273, 453, 298)  the\n",
      "GlyphLessFont IRect(452, 273, 539, 298)  Python\n",
      "GlyphLessFont IRect(301, 305, 394, 331) bindings\n",
      "GlyphLessFont IRect(393, 305, 433, 331)  for\n",
      "GlyphLessFont IRect(432, 305, 521, 331)  MuPDF\n",
      "NimbusSanL-Bold IRect(237, 342, 541, 374) PyMuPDF Documentation\n",
      "NimbusSanL-BoldItal IRect(422, 377, 541, 400) Release 1.19.0\n",
      "NimbusSanL-Bold IRect(431, 474, 541, 497) Jorj X. McKie\n",
      "NimbusSanL-Bold IRect(470, 639, 541, 655) Oct 17, 2021\n"
     ]
    }
   ],
   "source": [
    "for block in page.get_text(\"dict\", textpage=partial_tp, sort=True)[\"blocks\"]:\n",
    "    for line in block[\"lines\"]:\n",
    "        for span in line[\"spans\"]:\n",
    "            bbox = fitz.Rect(span[\"bbox\"]).irect  # just to make it short\n",
    "            print( span[\"font\"], bbox, span[\"text\"])"
   ]
  },
  {
   "cell_type": "markdown",
   "metadata": {},
   "source": [
    "As mentioned, normal text is **_not OCRed_** in this case, so keeps its own font, fontsize, position information, etc. Whereas OCRed text appears with Tesseract's `GlyphLessFont`.\n",
    "\n",
    "> During its internal processing, MuPDF treats every word returned by Tesseract as a separate text span."
   ]
  },
  {
   "attachments": {},
   "cell_type": "markdown",
   "metadata": {},
   "source": [
    "## Performance\n",
    "We mentioned in the beginning, that the OCR work is done during `TextPage` creation. Already without OCR, textpage creation is the most time consuming part of text processing.\n",
    "\n",
    "Creating OCR textpages may easily take 100 to several thousand times longer. It therefore by all means should happen only once per document page.\n",
    "\n",
    "The new `textpage` parameter in all text processing methods allows referring to an existing textpage and will suppress creating another one.\n",
    "\n",
    "Here are some performance comparisons for our example page:"
   ]
  },
  {
   "cell_type": "code",
   "execution_count": 7,
   "metadata": {},
   "outputs": [
    {
     "name": "stdout",
     "output_type": "stream",
     "text": [
      "142 µs ± 13.6 µs per loop (mean ± std. dev. of 7 runs, 1000 loops each)\n"
     ]
    }
   ],
   "source": [
    "# normal text extraction - no OCR\n",
    "%timeit page.get_textpage(flags=0)  # suppress image extraction"
   ]
  },
  {
   "cell_type": "code",
   "execution_count": 8,
   "metadata": {},
   "outputs": [
    {
     "name": "stdout",
     "output_type": "stream",
     "text": [
      "400 ms ± 25.8 ms per loop (mean ± std. dev. of 7 runs, 1 loop each)\n"
     ]
    }
   ],
   "source": [
    "# full page OCR\n",
    "%timeit page.get_textpage_ocr(flags=0, full=True, dpi=300)"
   ]
  },
  {
   "cell_type": "code",
   "execution_count": 9,
   "metadata": {},
   "outputs": [
    {
     "name": "stdout",
     "output_type": "stream",
     "text": [
      "262 ms ± 8.31 ms per loop (mean ± std. dev. of 7 runs, 1 loop each)\n"
     ]
    }
   ],
   "source": [
    "# partial OCR\n",
    "%timeit page.get_textpage_ocr(flags=0, full=False)"
   ]
  },
  {
   "cell_type": "markdown",
   "metadata": {},
   "source": [
    "The above numbers illustrate that OCRing a page is time consuming! Creating an OCR `TextPage` may be several thousand times slower.\n",
    "\n",
    "Once you **_have_** the textpage however, **_processing_** its text is as fast as it ever was:"
   ]
  },
  {
   "cell_type": "code",
   "execution_count": 10,
   "metadata": {},
   "outputs": [
    {
     "name": "stdout",
     "output_type": "stream",
     "text": [
      "6.87 µs ± 105 ns per loop (mean ± std. dev. of 7 runs, 100000 loops each)\n"
     ]
    }
   ],
   "source": [
    "# normal textpage\n",
    "normal_tp = page.get_textpage(flags=0)\n",
    "%timeit page.get_text(textpage=normal_tp)"
   ]
  },
  {
   "cell_type": "code",
   "execution_count": 11,
   "metadata": {},
   "outputs": [
    {
     "name": "stdout",
     "output_type": "stream",
     "text": [
      "6.82 µs ± 63.5 ns per loop (mean ± std. dev. of 7 runs, 100000 loops each)\n"
     ]
    }
   ],
   "source": [
    "# full page OCR\n",
    "%timeit page.get_text(textpage=full_tp)"
   ]
  },
  {
   "cell_type": "code",
   "execution_count": 12,
   "metadata": {},
   "outputs": [
    {
     "name": "stdout",
     "output_type": "stream",
     "text": [
      "7.85 µs ± 172 ns per loop (mean ± std. dev. of 7 runs, 100000 loops each)\n"
     ]
    }
   ],
   "source": [
    "# partial page OCR\n",
    "%timeit page.get_text(textpage=partial_tp)"
   ]
  }
 ],
 "metadata": {
  "interpreter": {
   "hash": "dacf40ba69c4e52f13991c9802a7e3e4c13661a31627ca571217c8b5d093ad33"
  },
  "kernelspec": {
   "display_name": "Python 3.9.6 64-bit",
   "name": "python3"
  },
  "language_info": {
   "codemirror_mode": {
    "name": "ipython",
    "version": 3
   },
   "file_extension": ".py",
   "mimetype": "text/x-python",
   "name": "python",
   "nbconvert_exporter": "python",
   "pygments_lexer": "ipython3",
   "version": "3.9.8"
  },
  "orig_nbformat": 4
 },
 "nbformat": 4,
 "nbformat_minor": 2
}

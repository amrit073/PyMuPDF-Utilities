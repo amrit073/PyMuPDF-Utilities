{
 "cells": [
  {
   "cell_type": "markdown",
   "metadata": {},
   "source": [
    "# Demonstrate the Effect of the MuPDF Dehyphenation Flag\n",
    "We will demonstrate here the impact of MuPDF's `TEXT_DEHYPHENATE` flag on extracted text and computed text boundary boxes.\n",
    "\n",
    "First we import PyMuPDF and make a memory PDF with some hyphenated text."
   ]
  },
  {
   "cell_type": "code",
   "execution_count": null,
   "metadata": {},
   "outputs": [],
   "source": [
    "# uncomment the following line(s) to ensure that all packages are available:\n",
    "# !python -m pip install matplotlib\n",
    "# !python -m pip install -U pymupdf\n",
    "\n",
    "%matplotlib inline\n",
    "import fitz  # import PyMuPDF\n",
    "\n",
    "def show_image(pix):\n",
    "    \"\"\"Display a pixmap using matplotlib and numpy.\"\"\"\n",
    "    import matplotlib.pyplot as plt  # needed for displaying intermediate images\n",
    "    import numpy as np  # needed for displaying intermediate images\n",
    "    img = np.ndarray((pix.h, pix.w, 3), dtype=np.uint8, buffer=pix.samples_mv)  # raw image to numpy array\n",
    "    image = plt.imshow(img)  # let matplotlib show the image\n",
    "\n",
    "text = (\n",
    "    \"This is a longer text with hyphena-\\n\"\n",
    "    \"ted words. It will be extracted using\\n\"\n",
    "    \"different flags.\\n\"\n",
    "    \"This will show, how bit settings influ-\\n\"\n",
    "    \"ence text bbox computations.\"\n",
    ")\n",
    "\n",
    "doc = fitz.open()\n",
    "page = doc.new_page(width=500,height=300)\n",
    "rect = page.rect +(72, 72, 0, 0)\n",
    "_ = page.insert_textbox(rect, text, fontsize=24)"
   ]
  },
  {
   "cell_type": "markdown",
   "metadata": {},
   "source": [
    "We take a look at the created page:"
   ]
  },
  {
   "cell_type": "code",
   "execution_count": null,
   "metadata": {},
   "outputs": [],
   "source": [
    "pix = page.get_pixmap()\n",
    "show_image(pix)"
   ]
  },
  {
   "cell_type": "markdown",
   "metadata": {},
   "source": [
    "First we do a simple extraction, using no special options. Under normal conditions, this should reproduce the text as shown in the file:"
   ]
  },
  {
   "cell_type": "code",
   "execution_count": null,
   "metadata": {},
   "outputs": [],
   "source": [
    "# using no special flags\n",
    "print(page.get_text(\"text\", flags=0))"
   ]
  },
  {
   "cell_type": "markdown",
   "metadata": {},
   "source": [
    "Now extract using the dehyphenation option.\n",
    "\n",
    "Please note that lines are joined with their successors if they end with a hyphen."
   ]
  },
  {
   "cell_type": "code",
   "execution_count": null,
   "metadata": {},
   "outputs": [],
   "source": [
    "# using the dehyphenation flag\n",
    "print(page.get_text(\"text\", flags=fitz.TEXT_DEHYPHENATE))"
   ]
  }
 ],
 "metadata": {
  "interpreter": {
   "hash": "dacf40ba69c4e52f13991c9802a7e3e4c13661a31627ca571217c8b5d093ad33"
  },
  "kernelspec": {
   "display_name": "Python 3 (ipykernel)",
   "language": "python",
   "name": "python3"
  },
  "language_info": {
   "codemirror_mode": {
    "name": "ipython",
    "version": 3
   },
   "file_extension": ".py",
   "mimetype": "text/x-python",
   "name": "python",
   "nbconvert_exporter": "python",
   "pygments_lexer": "ipython3",
   "version": "3.11.1"
  }
 },
 "nbformat": 4,
 "nbformat_minor": 2
}
